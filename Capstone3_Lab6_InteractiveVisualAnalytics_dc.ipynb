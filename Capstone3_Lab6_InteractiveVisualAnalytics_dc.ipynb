{
 "cells": [
  {
   "cell_type": "code",
   "execution_count": null,
   "id": "c6367e4c-5020-44a0-a45f-e7f86420d026",
   "metadata": {},
   "outputs": [],
   "source": [
    "#import packages\n",
    "!pip3 install folium\n",
    "!pip3 install wget"
   ]
  },
  {
   "cell_type": "code",
   "execution_count": null,
   "id": "6b9058f4-ed51-4058-8898-3120907d6acc",
   "metadata": {},
   "outputs": [],
   "source": [
    "$ pip install folium"
   ]
  },
  {
   "cell_type": "code",
   "execution_count": null,
   "id": "543a7014-c5a7-49be-8751-ab72d0842bd0",
   "metadata": {},
   "outputs": [],
   "source": [
    "$ conda install -c conda-forge folium"
   ]
  },
  {
   "cell_type": "code",
   "execution_count": null,
   "id": "f45508cb-6527-46f7-a6f2-2d8cad1fe002",
   "metadata": {},
   "outputs": [],
   "source": [
    "import folium\n",
    "import wget\n",
    "import pandas as pd"
   ]
  },
  {
   "cell_type": "code",
   "execution_count": null,
   "id": "dff996e2-ad94-46c9-bb21-f4aee29cf854",
   "metadata": {},
   "outputs": [],
   "source": [
    "# Import folium MarkerCluster plugin\n",
    "from folium.plugins import MarkerCluster\n",
    "# Import folium MousePosition plugin\n",
    "from folium.plugins import MousePosition\n",
    "# Import folium DivIcon plugin\n",
    "from folium.features import DivIcon"
   ]
  },
  {
   "cell_type": "code",
   "execution_count": null,
   "id": "bc2998b5-7f11-4765-9586-bb0740c529aa",
   "metadata": {},
   "outputs": [],
   "source": [
    "##Task 1: Mark all launch sites on a map\n",
    "\n",
    "# Download and read the `spacex_launch_geo.csv`\n",
    "spacex_csv_file = wget.download('https://cf-courses-data.s3.us.cloud-object-storage.appdomain.cloud/IBM-DS0321EN-SkillsNetwork/datasets/spacex_launch_geo.csv')\n",
    "spacex_df=pd.read_csv(spacex_csv_file)"
   ]
  },
  {
   "cell_type": "code",
   "execution_count": null,
   "id": "7d521264-ee0b-4890-a985-583609a2c8fe",
   "metadata": {},
   "outputs": [],
   "source": [
    "# Select relevant sub-columns: `Launch Site`, `Lat(Latitude)`, `Long(Longitude)`, `class`\n",
    "spacex_df = spacex_df[['Launch Site', 'Lat', 'Long', 'class']]\n",
    "launch_sites_df = spacex_df.groupby(['Launch Site'], as_index=False).first()\n",
    "launch_sites_df = launch_sites_df[['Launch Site', 'Lat', 'Long', 'class']]\n",
    "launch_sites_df"
   ]
  },
  {
   "cell_type": "code",
   "execution_count": null,
   "id": "64c45aef-821c-495b-bd59-ee74fc784d24",
   "metadata": {},
   "outputs": [],
   "source": [
    "#create a folium Map object, with an initial center location to be NASA Johnson Space Center at Houston, Texas.\n",
    "\n",
    "# Start location is NASA Johnson Space Center\n",
    "nasa_coordinate = [29.559684888503615, -95.0830971930759]\n",
    "site_map = folium.Map(location=nasa_coordinate, zoom_start=10)"
   ]
  },
  {
   "cell_type": "code",
   "execution_count": null,
   "id": "1f782b1b-67c0-4965-9d70-d49d421f21a5",
   "metadata": {},
   "outputs": [],
   "source": [
    "# Create a blue circle at NASA Johnson Space Center's coordinate with a popup label showing its name\n",
    "circle = folium.Circle(nasa_coordinate, radius=1000, color='#007fd3', fill=True).add_child(folium.Popup('NASA Johnson Space Center'))\n",
    "# Create a blue circle at NASA Johnson Space Center's coordinate with a icon showing its name\n",
    "marker = folium.map.Marker(\n",
    "    nasa_coordinate,\n",
    "    # Create an icon as a text label\n",
    "    icon=DivIcon(\n",
    "        icon_size=(20,20),\n",
    "        icon_anchor=(0,0),\n",
    "        html='<div style=\"font-size: 12; color:#007fd3;\"><b>%s</b></div>' % 'NASA JSC',\n",
    "        )\n",
    "    )\n",
    "site_map.add_child(circle)\n",
    "site_map.add_child(marker)"
   ]
  },
  {
   "cell_type": "code",
   "execution_count": null,
   "id": "0e56aa32-0a75-4ab8-9b85-be87a4b779ef",
   "metadata": {},
   "outputs": [],
   "source": [
    "# Initial the map\n",
    "site_map = folium.Map(location=nasa_coordinate, zoom_start=5)\n",
    "# For each launch site, add a Circle object based on its coordinate (Lat, Long) values. In addition, add Launch site name as a popup label\n",
    "for lat, lng, label in zip(launch_sites_df['Lat'], launch_sites_df['Long'], launch_sites_df['Launch Site']):\n",
    "    coordinate = [lat, lng]\n",
    "    circle = folium.Circle(coordinate, radius=1000, color='#d35400', fill=True).add_child(folium.Popup(label))\n",
    "    marker = folium.map.Marker(\n",
    "        coordinate, \n",
    "        icon=DivIcon(\n",
    "            icon_size=(20,20),\n",
    "            icon_anchor=(0,0), \n",
    "            html='<div style=\"font-size: 12; color:#d35400;\"><b>%s</b></div>' % label, \n",
    "            )\n",
    "        )\n",
    "    site_map.add_child(circle)\n",
    "    site_map.add_child(marker)\n",
    "\n",
    "site_map"
   ]
  },
  {
   "cell_type": "code",
   "execution_count": null,
   "id": "b170ecbe-a561-484c-b7a3-9c285964490c",
   "metadata": {},
   "outputs": [],
   "source": [
    "##Task 2: Mark the success/failed launches for each site on the map\n",
    "\n",
    "spacex_df.tail(10)"
   ]
  },
  {
   "cell_type": "code",
   "execution_count": null,
   "id": "48e29727-d2ea-4854-9cf9-4f33a805041e",
   "metadata": {},
   "outputs": [],
   "source": [
    "marker_cluster = MarkerCluster()"
   ]
  },
  {
   "cell_type": "code",
   "execution_count": null,
   "id": "38be391d-4359-4725-8d6e-587270e0ebfe",
   "metadata": {},
   "outputs": [],
   "source": [
    "#Create a new column in launch_sites dataframe called marker_color to store the marker colors based on the class value\n",
    "\n",
    "# Apply a function to check the value of `class` column\n",
    "# If class=1, marker_color value will be green\n",
    "# If class=0, marker_color value will be red\n",
    "def assign_marker_color_LSDF(launch_class):\n",
    "    if launch_class == 1:\n",
    "        return 'green'\n",
    "    else:\n",
    "        return 'red'\n",
    "\n",
    "launch_sites_df['marker_color'] = launch_sites_df['class'].apply(assign_marker_color_LSDF)\n",
    "launch_sites_df"
   ]
  },
  {
   "cell_type": "code",
   "execution_count": null,
   "id": "03a5e9dc-7580-4af0-aceb-3ceb0c1a2a60",
   "metadata": {},
   "outputs": [],
   "source": [
    "# Function to assign color to launch outcome\n",
    "def assign_marker_color(launch_outcome):\n",
    "    if launch_outcome == 1:\n",
    "        return 'green'\n",
    "    else:\n",
    "        return 'red'\n",
    "    \n",
    "spacex_df['marker_color'] = spacex_df['class'].apply(assign_marker_color)\n",
    "spacex_df.tail(10)"
   ]
  },
  {
   "cell_type": "code",
   "execution_count": null,
   "id": "5ed124eb-1c73-411d-9245-a386a598c741",
   "metadata": {},
   "outputs": [],
   "source": [
    "#For each launch result in spacex_df data frame, add a folium.Marker to marker_cluster\n",
    "# Add marker_cluster to current site_map\n",
    "site_map.add_child(marker_cluster)\n",
    "\n",
    "# for each row in spacex_df data frame\n",
    "# create a Marker object with its coordinate\n",
    "# and customize the Marker's icon property to indicate if this launch was successed or failed, \n",
    "# e.g., icon=folium.Icon(color='white', icon_color=row['marker_color']\n",
    "for lat, lng, label, color in zip(spacex_df['Lat'], spacex_df['Long'], spacex_df['Launch Site'], spacex_df['marker_color']):\n",
    "    # TODO: Create and add a Marker cluster to the site map\n",
    "    # marker = folium.Marker(...)\n",
    "    coordinate = [lat, lng]\n",
    "    marker = folium.Marker(\n",
    "        coordinate, \n",
    "        icon=folium.Icon(color='white', icon_color=color),\n",
    "        popup=label\n",
    "    )\n",
    "    marker_cluster.add_child(marker)\n",
    "\n",
    "site_map"
   ]
  },
  {
   "cell_type": "code",
   "execution_count": null,
   "id": "9350bf91-9746-452d-8b0c-2a9decdb54c1",
   "metadata": {},
   "outputs": [],
   "source": [
    "##TASK 3: Calculate the distances between a launch site to its proximities\n",
    "\n",
    "#add a MousePosition on the map to get coordinate for a mouse over a point on the map. As such, while you are exploring the map, you can easily find the coordinates of any points of interests (such as railway)\n",
    "\n",
    "# Add Mouse Position to get the coordinate (Lat, Long) for a mouse over on the map\n",
    "formatter = \"function(num) {return L.Util.formatNum(num, 5);};\"\n",
    "mouse_position = MousePosition(\n",
    "    position='topright',\n",
    "    separator=' Long: ',\n",
    "    empty_string='NaN',\n",
    "    lng_first=False,\n",
    "    num_digits=20,\n",
    "    prefix='Lat:',\n",
    "    lat_formatter=formatter,\n",
    "    lng_formatter=formatter,\n",
    ")\n",
    "\n",
    "site_map.add_child(mouse_position)\n",
    "site_map\n"
   ]
  },
  {
   "cell_type": "code",
   "execution_count": null,
   "id": "294ab528-24c5-4446-9d4e-46cc9d47652e",
   "metadata": {},
   "outputs": [],
   "source": [
    "#calculate the distance between two points on the map based on their Lat and Long values using the following method:\n",
    "\n",
    "from math import sin, cos, sqrt, atan2, radians\n",
    "\n",
    "def calculate_distance(lat1, lon1, lat2, lon2):\n",
    "    # approximate radius of earth in km\n",
    "    R = 6373.0\n",
    "\n",
    "    lat1 = radians(lat1)\n",
    "    lon1 = radians(lon1)\n",
    "    lat2 = radians(lat2)\n",
    "    lon2 = radians(lon2)\n",
    "\n",
    "    dlon = lon2 - lon1\n",
    "    dlat = lat2 - lat1\n",
    "\n",
    "    a = sin(dlat / 2)**2 + cos(lat1) * cos(lat2) * sin(dlon / 2)**2\n",
    "    c = 2 * atan2(sqrt(a), sqrt(1 - a))\n",
    "\n",
    "    distance = R * c\n",
    "    return distance"
   ]
  },
  {
   "cell_type": "code",
   "execution_count": null,
   "id": "96ea8561-3fed-44cb-b9c0-2382d9e6234e",
   "metadata": {},
   "outputs": [],
   "source": [
    "#Mark down a point on the closest coastline using MousePosition and calculate the distance between the coastline point and the launch site.\n",
    "# find coordinate of the closet coastline\n",
    "coastline_lat = 28.56398\n",
    "coastline_lon = -80.56809\n",
    "launch_site_lat = 28.56321\n",
    "launch_site_lon = -80.57683\n",
    "distance_coastline = calculate_distance(launch_site_lat, launch_site_lon, coastline_lat, coastline_lon)\n"
   ]
  },
  {
   "cell_type": "code",
   "execution_count": null,
   "id": "9f166f34-8a4a-4aa4-87f0-40d0b24006aa",
   "metadata": {},
   "outputs": [],
   "source": [
    "#create a folium.Marker to show the distance\n",
    "# Create and add a folium.Marker on your selected closest coastline point on the map\n",
    "# Display the distance between coastline point and launch site using the icon property \n",
    "coast_coordinates = [coastline_lat, coastline_lon]\n",
    "distance_marker = folium.Marker(\n",
    "    coast_coordinates,\n",
    "    icon=DivIcon(\n",
    "        icon_size=(20,20),\n",
    "        icon_anchor=(0,0),\n",
    "        html='<div style=\"font-size: 12; color:#d35400;\"><b>%s</b></div>' % \"{:10.2f} KM\".format(distance_coastline),\n",
    "        )\n",
    "    )\n",
    "distance_marker.add_to(site_map)\n",
    "site_map"
   ]
  },
  {
   "cell_type": "code",
   "execution_count": null,
   "id": "50b153b1-5abe-4386-b75c-3b7aedc62267",
   "metadata": {},
   "outputs": [],
   "source": [
    "#Draw a PolyLine between a launch site to the selected coastline point\n",
    "# Create a `folium.PolyLine` object using the coastline coordinates and launch site coordinate\n",
    "launch_site_coordinates = [launch_site_lat, launch_site_lon]\n",
    "lines=folium.PolyLine(locations=[coast_coordinates, launch_site_coordinates], weight=1)\n",
    "site_map.add_child(lines)"
   ]
  },
  {
   "cell_type": "code",
   "execution_count": null,
   "id": "0041c44a-5556-4e10-a4cf-74142d33e3a9",
   "metadata": {},
   "outputs": [],
   "source": [
    "# Create a marker with distance to a closest city, railway, highway, etc.\n",
    "# Draw a line between the closest city(Titusville) to the launch site\n",
    "city_lat = 28.61208\n",
    "city_lon = -80.80764\n",
    "distance_city = calculate_distance(launch_site_lat, launch_site_lon, city_lat, city_lon)\n",
    "\n",
    "city_coordinates = [city_lat, city_lon]\n",
    "distance_marker = folium.Marker(\n",
    "    city_coordinates,\n",
    "    icon=DivIcon(\n",
    "        icon_size=(20,20),\n",
    "        icon_anchor=(0,0),\n",
    "        html='<div style=\"font-size: 12; color:#d35400;\"><b>%s</b></div>' % \"{:10.2f} KM\".format(distance_city),\n",
    "        )\n",
    "    )\n",
    "distance_marker.add_to(site_map)\n",
    "\n",
    "launch_site_coordinates = [launch_site_lat, launch_site_lon]\n",
    "lines=folium.PolyLine(locations=[city_coordinates, launch_site_coordinates], weight=1)\n",
    "site_map.add_child(lines)\n",
    "site_map"
   ]
  },
  {
   "cell_type": "code",
   "execution_count": null,
   "id": "213791a3-3c25-42ad-bd18-64ee6e0c2dfa",
   "metadata": {},
   "outputs": [],
   "source": [
    "# Draw a line between the closest railway to the launch site\n",
    "railway_lat = 28.57208\n",
    "railway_lon = -80.58527\n",
    "distance_railway = calculate_distance(launch_site_lat, launch_site_lon, railway_lat, railway_lon)\n",
    "\n",
    "railway_coordinates = [railway_lat, railway_lon]\n",
    "distance_marker = folium.Marker(\n",
    "    railway_coordinates,\n",
    "    icon=DivIcon(\n",
    "        icon_size=(20,20),\n",
    "        icon_anchor=(0,0),\n",
    "        html='<div style=\"font-size: 12; color:#d35400;\"><b>%s</b></div>' % \"{:10.2f} KM\".format(distance_railway),\n",
    "        )\n",
    "    )\n",
    "distance_marker.add_to(site_map)\n",
    "\n",
    "launch_site_coordinates = [launch_site_lat, launch_site_lon]\n",
    "lines=folium.PolyLine(locations=[railway_coordinates, launch_site_coordinates], weight=1)\n",
    "site_map.add_child(lines)\n",
    "site_map"
   ]
  },
  {
   "cell_type": "code",
   "execution_count": null,
   "id": "210552b0-c1b9-47df-a40e-5c93401f13ab",
   "metadata": {},
   "outputs": [],
   "source": [
    "# Draw a line between the closest highway to the launch site\n",
    "highway_lat = 28.56478\n",
    "highway_lon = -80.57103\n",
    "distance_highway = calculate_distance(launch_site_lat, launch_site_lon, highway_lat, highway_lon)\n",
    "\n",
    "highway_coordinates = [highway_lat, highway_lon]\n",
    "distance_marker = folium.Marker(\n",
    "    highway_coordinates,\n",
    "    icon=DivIcon(\n",
    "        icon_size=(20,20),\n",
    "        icon_anchor=(0,0),\n",
    "        html='<div style=\"font-size: 12; color:#d35400;\"><b>%s</b></div>' % \"{:10.2f} KM\".format(distance_highway),\n",
    "        )\n",
    "    )\n",
    "distance_marker.add_to(site_map)\n",
    "\n",
    "launch_site_coordinates = [launch_site_lat, launch_site_lon]\n",
    "lines=folium.PolyLine(locations=[highway_coordinates, launch_site_coordinates], weight=1)\n",
    "site_map.add_child(lines)\n",
    "site_map"
   ]
  },
  {
   "cell_type": "code",
   "execution_count": null,
   "id": "ab3f7900-3bf4-4110-947a-4cd71ed410bc",
   "metadata": {},
   "outputs": [],
   "source": [
    "# Draw a line between the closest city(Cape Canaveral) to the launch site\n",
    "city_2_lat = 28.40159\n",
    "city_2_lon = -80.6042\n",
    "distance_city_2 = calculate_distance(launch_site_lat, launch_site_lon, city_2_lat, city_2_lon)\n",
    "\n",
    "city_2_coordinates = [city_2_lat, city_2_lon]\n",
    "distance_marker = folium.Marker(\n",
    "    city_2_coordinates,\n",
    "    icon=DivIcon(\n",
    "        icon_size=(20,20),\n",
    "        icon_anchor=(0,0),\n",
    "        html='<div style=\"font-size: 12; color:#d35400;\"><b>%s</b></div>' % \"{:10.2f} KM\".format(distance_city_2),\n",
    "        )\n",
    "    )\n",
    "distance_marker.add_to(site_map)\n",
    "\n",
    "launch_site_coordinates = [launch_site_lat, launch_site_lon]\n",
    "lines=folium.PolyLine(locations=[city_2_coordinates, launch_site_coordinates], weight=1)\n",
    "site_map.add_child(lines)\n",
    "site_map"
   ]
  },
  {
   "cell_type": "code",
   "execution_count": null,
   "id": "b2ba33f1-3c38-4018-ba8a-41673d889f3c",
   "metadata": {},
   "outputs": [],
   "source": [
    "# Draw a line between the closest city(Lompoc) to the launch site(Space Launch Complex 4)\n",
    "launch_site_4_lat = 34.63286\n",
    "launch_site_4_lon = -120.61074\n",
    "launch_site_4_coordinates = [launch_site_4_lat, launch_site_4_lon]\n",
    "\n",
    "city_Lompoc_lat = 34.63879\n",
    "city_Lompoc_lon = -120.45788\n",
    "distance_city_Lompoc = calculate_distance(launch_site_4_lat, launch_site_4_lon, city_Lompoc_lat, city_Lompoc_lon)\n",
    "\n",
    "city_Lompoc_coordinates = [city_Lompoc_lat, city_Lompoc_lon]\n",
    "\n",
    "distance_marker = folium.Marker(\n",
    "    city_Lompoc_coordinates,\n",
    "    icon=DivIcon(\n",
    "        icon_size=(20,20),\n",
    "        icon_anchor=(0,0),\n",
    "        html='<div style=\"font-size: 12; color:#d35400;\"><b>%s</b></div>' % \"{:10.2f} KM\".format(distance_city_Lompoc),\n",
    "        )\n",
    "    )\n",
    "distance_marker.add_to(site_map)\n",
    "\n",
    "lines=folium.PolyLine(locations=[city_Lompoc_coordinates, launch_site_4_coordinates], weight=1)\n",
    "site_map.add_child(lines)\n",
    "\n",
    "# Draw a line between the closest coast to the launch site(Space Launch Complex 4)\n",
    "west_coast_lat = 34.63698\n",
    "west_coast_lon = -120.6245\n",
    "distance_west_coast = calculate_distance(launch_site_4_lat, launch_site_4_lon, west_coast_lat, west_coast_lon)\n",
    "\n",
    "west_coast_coordinates = [west_coast_lat, west_coast_lon]\n",
    "\n",
    "distance_marker = folium.Marker(\n",
    "    west_coast_coordinates,\n",
    "    icon=DivIcon(\n",
    "        icon_size=(20,20),\n",
    "        icon_anchor=(0,0),\n",
    "        html='<div style=\"font-size: 12; color:#d35400;\"><b>%s</b></div>' % \"{:10.2f} KM\".format(distance_west_coast),\n",
    "        )\n",
    "    )\n",
    "distance_marker.add_to(site_map)\n",
    "\n",
    "lines=folium.PolyLine(locations=[west_coast_coordinates, launch_site_4_coordinates], weight=1)\n",
    "site_map.add_child(lines)\n",
    "\n",
    "# Draw a line between the closest railway to the launch site(Space Launch Complex 4)\n",
    "railway_4_lat = 34.63677\n",
    "railway_4_lon = -120.6236\n",
    "distance_railway_4 = calculate_distance(launch_site_4_lat, launch_site_4_lon, railway_4_lat, railway_4_lon)\n",
    "\n",
    "railway_4_coordinates = [railway_4_lat, railway_4_lon]\n",
    "\n",
    "distance_marker = folium.Marker(\n",
    "    railway_4_coordinates,\n",
    "    icon=DivIcon(\n",
    "        icon_size=(20,20),\n",
    "        icon_anchor=(0,0),\n",
    "        html='<div style=\"font-size: 12; color:#d35400;\"><b>%s</b></div>' % \"{:10.2f} KM\".format(distance_railway_4),\n",
    "        )\n",
    "    )\n",
    "distance_marker.add_to(site_map)\n",
    "\n",
    "lines=folium.PolyLine(locations=[railway_4_coordinates, launch_site_4_coordinates], weight=1)\n",
    "site_map.add_child(lines)\n",
    "\n",
    "site_map"
   ]
  },
  {
   "cell_type": "code",
   "execution_count": null,
   "id": "3bb5f602-a197-483d-ad64-ec6fff44c9c1",
   "metadata": {},
   "outputs": [],
   "source": []
  }
 ],
 "metadata": {
  "kernelspec": {
   "display_name": "Python 3 (ipykernel)",
   "language": "python",
   "name": "python3"
  },
  "language_info": {
   "codemirror_mode": {
    "name": "ipython",
    "version": 3
   },
   "file_extension": ".py",
   "mimetype": "text/x-python",
   "name": "python",
   "nbconvert_exporter": "python",
   "pygments_lexer": "ipython3",
   "version": "3.9.7"
  }
 },
 "nbformat": 4,
 "nbformat_minor": 5
}
